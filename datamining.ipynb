{
 "cells": [
  {
   "cell_type": "markdown",
   "metadata": {},
   "source": [
    "## Question 1:"
   ]
  },
  {
   "cell_type": "markdown",
   "metadata": {},
   "source": [
    "#### Knowing the goal of the Streamroot technology, define a metric to measure Streamroot's performance. Calculate that performance scorefor each of the companies in the dataset.\n"
   ]
  },
  {
   "cell_type": "markdown",
   "metadata": {},
   "source": [
    "The performance of the technology is the measure of the ability of one viewer to download the video data. Being in a peer to peer environement the data must be shared. So we want to calculate the debit of downloaded data measured during the timespan (2 min). Furthermore we are looking for getting an overall performance of the technology so our measure must be an average value by the number of viwers. The performance will be the average debit of downloading of each viewer.\n",
    "This will lead us so to the following metric of Performance meausre(bytes/milisecond):"
   ]
  },
  {
   "cell_type": "markdown",
   "metadata": {},
   "source": [
    "$$performance = \\frac{1}{viewers}\\sum_{k=0}^{k=viewers} \\frac{cdn+p2p}{timespan}$$"
   ]
  },
  {
   "cell_type": "code",
   "execution_count": 101,
   "metadata": {},
   "outputs": [],
   "source": [
    "import pandas as pd\n",
    "\n",
    "data=pd.read_csv(\"dstest.csv\");\n",
    "timespan=120000;\n",
    "\n"
   ]
  },
  {
   "cell_type": "code",
   "execution_count": 113,
   "metadata": {},
   "outputs": [
    {
     "name": "stderr",
     "output_type": "stream",
     "text": [
      "C:\\Users\\khaoula\\anaconda3\\lib\\site-packages\\ipykernel_launcher.py:8: RuntimeWarning: overflow encountered in long_scalars\n",
      "  \n"
     ]
    }
   ],
   "source": [
    "companies=data['company'].unique()\n",
    "dataperformance=data[['company','cdn',\"p2p\"]]\n",
    "d={};\n",
    "for C in companies:\n",
    "    S=0;\n",
    "    S=S+dataperformance.loc[dataperformance['company']==C,:]['p2p'].sum()+dataperformance.loc[dataperformance['company']==C,:]['cdn'].sum()\n",
    "    viewers=dataperformance.loc[dataperformance['company']==C,:].size\n",
    "    S=S/(viewers*timespan);\n",
    "    d[C]=S;\n",
    "\n",
    "            \n",
    "\n",
    "\n",
    "    "
   ]
  },
  {
   "cell_type": "markdown",
   "metadata": {},
   "source": [
    "So the performance of each company is the following:"
   ]
  },
  {
   "cell_type": "code",
   "execution_count": 120,
   "metadata": {},
   "outputs": [
    {
     "name": "stdout",
     "output_type": "stream",
     "text": [
      "the average peformance for each viewer is : \n",
      "\n",
      "{'Streamroot TV': 16331.307745906617, 'Flash Infos': 1625.985081297924, 'Sports News': 124.92195872932375}\n"
     ]
    }
   ],
   "source": [
    "print ('the average peformance for each viewer is : \\n')\n",
    "print(d)"
   ]
  },
  {
   "cell_type": "markdown",
   "metadata": {},
   "source": [
    "## Question 2"
   ]
  },
  {
   "cell_type": "markdown",
   "metadata": {},
   "source": [
    "#### How can we know whether a payload is the first payload of a viewer's session ?"
   ]
  },
  {
   "cell_type": "markdown",
   "metadata": {},
   "source": [
    "Such playload has the value sessionDuration that indicates the elapsed time since the beginning of the video session. So if this duration is equal to the timespan which is 2 minutes then it means that the playload is the first one sent by the viewer."
   ]
  },
  {
   "cell_type": "markdown",
   "metadata": {},
   "source": [
    "#### Add a column isFirstPayload to the dataset, that must be True if the row represents a payload that was the first payload sent by a viewer, and False otherwise.\n"
   ]
  },
  {
   "cell_type": "code",
   "execution_count": 84,
   "metadata": {},
   "outputs": [],
   "source": [
    "timespan=120000;\n",
    "duration=data[\"sessionDuration\"].values\n",
    "L=[];\n",
    "for i in range(len(duration)):\n",
    "    if (duration[i]==timespan):\n",
    "        L.append(True);\n",
    "    else:\n",
    "        L.append(False);\n",
    "data[\"isFirstPayload\"]=L"
   ]
  },
  {
   "cell_type": "markdown",
   "metadata": {},
   "source": [
    "#### Use that column to calculate the number of distinct viewers that sent payloads for each company."
   ]
  },
  {
   "cell_type": "markdown",
   "metadata": {},
   "source": [
    "The number of distinct viewers : we sum all the viewers every time a new viewer appear so we should sum all the viewers accordint to their fir playload otherwise he will be considered twice."
   ]
  },
  {
   "cell_type": "code",
   "execution_count": 86,
   "metadata": {},
   "outputs": [],
   "source": [
    "companies=data['company'].unique()\n",
    "dataviewers=data[['company','isFirstPayload']].loc[data['isFirstPayload']==True,:]\n",
    "number={};\n",
    "for C in companies:\n",
    "    viewers=dataviewers.loc[data['company']==C,:].size\n",
    "    number[C]=viewers\n",
    "    \n",
    "    "
   ]
  },
  {
   "cell_type": "markdown",
   "metadata": {},
   "source": [
    "The number of distinct viewers of each company is then:"
   ]
  },
  {
   "cell_type": "code",
   "execution_count": 87,
   "metadata": {},
   "outputs": [
    {
     "data": {
      "text/plain": [
       "{'Streamroot TV': 39828, 'Flash Infos': 1610, 'Sports News': 230}"
      ]
     },
     "execution_count": 87,
     "metadata": {},
     "output_type": "execute_result"
    }
   ],
   "source": [
    "number"
   ]
  },
  {
   "cell_type": "markdown",
   "metadata": {},
   "source": [
    "## Question 3 "
   ]
  },
  {
   "cell_type": "markdown",
   "metadata": {},
   "source": [
    "#### Let's consider a viewer A who starts a video at T=0, then has a playback error at T = 2 minutes 30 seconds, and then another one at T=6 minutes 20 seconds. What will be the values of the fields playbackErrorCount and totalPlaybackErrorCount in the first 5 payloads sent by viewer A ?\n",
    " "
   ]
  },
  {
   "cell_type": "code",
   "execution_count": 42,
   "metadata": {},
   "outputs": [
    {
     "data": {
      "text/plain": [
       "<matplotlib.image.AxesImage at 0x18cbefbe988>"
      ]
     },
     "execution_count": 42,
     "metadata": {},
     "output_type": "execute_result"
    },
    {
     "data": {
      "image/png": "[encoded data removed]",
      "text/plain": [
       "<Figure size 432x288 with 1 Axes>"
      ]
     },
     "metadata": {
      "needs_background": "light"
     },
     "output_type": "display_data"
    }
   ],
   "source": [
    "import matplotlib.image as mpimg \n",
    "import matplotlib.pyplot as plt \n",
    "  \n",
    "# Read Images \n",
    "img = mpimg.imread('playloads.png') \n",
    "  \n",
    "# Output Images \n",
    "plt.imshow(img) \n"
   ]
  },
  {
   "cell_type": "markdown",
   "metadata": {},
   "source": [
    "As the image just above shows, there are two errors happened at two different times so for the first playload nothing happened and the total errors number is then nul ,  it's not the case in the first playload, we notice an error and it's the only one so th total is equal to one an so on we can arrive to the following result:"
   ]
  },
  {
   "cell_type": "markdown",
   "metadata": {},
   "source": [
    "playload number:------------------------playbackErrorCount:------------------------TotalplaybackErrorCount:  \n",
    "\n",
    "                   1                           0                                0\n",
    "\n",
    "                   2                           1                                1\n",
    "                   \n",
    "                   3                           0                                1\n",
    "                   \n",
    "                   4                           1                                2\n",
    "                   \n",
    "                   5                           0                                2"
   ]
  },
  {
   "cell_type": "markdown",
   "metadata": {},
   "source": [
    "#### Calculate the number of distinct viewers that had at least 1 playback error during their session.\n"
   ]
  },
  {
   "cell_type": "code",
   "execution_count": 92,
   "metadata": {},
   "outputs": [],
   "source": [
    "dataviewers2=data[['company','totalPlaybackErrorCount']].loc[data['totalPlaybackErrorCount']==1,:]\n",
    "viewers={};\n",
    "companies=data['company'].unique()\n",
    "for C in companies:\n",
    "    viewers[C]=dataviewers2.loc[dataviewers2['company']==C,:].size"
   ]
  },
  {
   "cell_type": "markdown",
   "metadata": {},
   "source": [
    "I chose that the condition be equals to one even if it's at least one so that I can avoid counting the same viwer twice. Furthermore when the total number of errors of one viewer is more than one this would necessiraly mean that we passed the case when the total error number is one and that was his first playload with an error. So the number of distinct viewers that has at least 1 playback error is:"
   ]
  },
  {
   "cell_type": "code",
   "execution_count": 93,
   "metadata": {},
   "outputs": [
    {
     "data": {
      "text/plain": [
       "{'Streamroot TV': 0, 'Flash Infos': 2, 'Sports News': 486}"
      ]
     },
     "execution_count": 93,
     "metadata": {},
     "output_type": "execute_result"
    }
   ],
   "source": [
    "viewers"
   ]
  },
  {
   "cell_type": "markdown",
   "metadata": {},
   "source": [
    "## Question 4:"
   ]
  },
  {
   "cell_type": "markdown",
   "metadata": {},
   "source": [
    "#### Let's focus only customer Streamroot TV for all the Question 4. We define the \"concurrency\" as the number of viewers connected simustaneously on the same content, i.e the number of payloads we received during a given 2 minutes window on a given content.\n",
    "#### Add a column \"readableDate\" to the dataset that will be the beginning of the 2 minutes window during which the payload was sent. For example, if a payload was sent at 11:35, the column \"readableDate\" should be 11:34\n"
   ]
  },
  {
   "cell_type": "code",
   "execution_count": 109,
   "metadata": {},
   "outputs": [],
   "source": [
    "from datetime import datetime\n",
    "\n",
    "data['readableDate']=data['timestamp'].apply(lambda x: str(datetime.fromtimestamp(int(x/1000.0)).isoformat()[-8:-3] ))\n",
    "                                                                                                         \n",
    "                                  "
   ]
  },
  {
   "cell_type": "code",
   "execution_count": 110,
   "metadata": {},
   "outputs": [
    {
     "data": {
      "text/plain": [
       "0         05:23\n",
       "1         05:25\n",
       "2         05:27\n",
       "3         05:29\n",
       "4         05:31\n",
       "          ...  \n",
       "385160    07:50\n",
       "385161    07:52\n",
       "385162    07:54\n",
       "385163    07:56\n",
       "385164    07:58\n",
       "Name: readableDate, Length: 385165, dtype: object"
      ]
     },
     "execution_count": 110,
     "metadata": {},
     "output_type": "execute_result"
    }
   ],
   "source": [
    "data['readableDate']"
   ]
  },
  {
   "cell_type": "markdown",
   "metadata": {},
   "source": [
    "#### Plot the concurrency time series for the content content-05335 ."
   ]
  },
  {
   "cell_type": "markdown",
   "metadata": {},
   "source": [
    "For this question, I tend to track the variation of the concurrency during the time. So, for each time label of a certain playload we sum all the viewers that sent at that time(considering the attendancy of a viewer and its commitement to sen a playload)"
   ]
  },
  {
   "cell_type": "code",
   "execution_count": 96,
   "metadata": {},
   "outputs": [
    {
     "data": {
      "image/png": "[encoded data removed]",
      "text/plain": [
       "<Figure size 432x288 with 1 Axes>"
      ]
     },
     "metadata": {
      "needs_background": "light"
     },
     "output_type": "display_data"
    }
   ],
   "source": [
    "import matplotlib.pyplot as plt\n",
    "concurrency=[]\n",
    "duration=data['readableDate'].unique()\n",
    "dataviewers=(data[['company','content','readableDate']].loc[data['company']=='Streamroot TV',:]).loc[data['content']=='content-05335',:]\n",
    "\n",
    "for t in duration:\n",
    "    concurrency.append(dataviewers.loc[dataviewers['readableDate']==t,:].size)\n",
    "   \n",
    "    \n",
    "plt.plot(duration,concurrency)\n",
    "plt.title(\"concurrency time series\")\n",
    "plt.xlabel(\"time\")\n",
    "plt.ylabel(\"concurrency\")\n",
    "plt.show()\n",
    "\n",
    "            \n",
    "            \n",
    "            \n"
   ]
  },
  {
   "cell_type": "markdown",
   "metadata": {},
   "source": [
    "#### What is the average performance measured when the concurrency is lower than 10 ?\n"
   ]
  },
  {
   "cell_type": "markdown",
   "metadata": {},
   "source": [
    "Here, we are applying the performance metric but only for the playloads that have been sent at the time we calculate it the considered concurrency which lower than 10"
   ]
  },
  {
   "cell_type": "code",
   "execution_count": 116,
   "metadata": {},
   "outputs": [
    {
     "name": "stderr",
     "output_type": "stream",
     "text": [
      "C:\\Users\\khaoula\\anaconda3\\lib\\site-packages\\ipykernel_launcher.py:10: RuntimeWarning: overflow encountered in long_scalars\n",
      "  # Remove the CWD from sys.path while we load stuff.\n"
     ]
    }
   ],
   "source": [
    "\n",
    "dataper=data[['company','p2p','cdn','readableDate']].loc[data['company']=='Streamroot TV',:]\n",
    "timespan=120000\n",
    "S=0\n",
    "viewers=0\n",
    "for i in range(len(concurrency)):\n",
    "    if (concurrency[i]<10):\n",
    "        S=S+dataper.loc[dataper['readableDate']==duration[i],:]['p2p'].sum()+dataper.loc[dataper['readableDate']==duration[i],:]['cdn'].sum()\n",
    "        viewers=viewers+dataper.loc[dataper['readableDate']==duration[i],:].size\n",
    "\n",
    "S=S/(viewers*timespan);\n",
    "\n",
    "                \n",
    "        "
   ]
  },
  {
   "cell_type": "code",
   "execution_count": 117,
   "metadata": {},
   "outputs": [
    {
     "name": "stdout",
     "output_type": "stream",
     "text": [
      "the average performance for a concurrency lower than 10 is: \n",
      "\n",
      "6122.317001941656\n"
     ]
    }
   ],
   "source": [
    "print('the average performance for a concurrency lower than 10 is: \\n')\n",
    "print(S)\n"
   ]
  },
  {
   "cell_type": "markdown",
   "metadata": {},
   "source": [
    "#### Starting from which concurrency can we say there is a 75% chance that the performance on a content is higher than 80% ?"
   ]
  },
  {
   "cell_type": "markdown",
   "metadata": {},
   "source": [
    "I couldn't answer this question because the definition that I gave to the performance metric doesn't give a percentage as a return but the average debit of download for each viewer."
   ]
  },
  {
   "cell_type": "code",
   "execution_count": null,
   "metadata": {},
   "outputs": [],
   "source": []
  }
 ],
 "metadata": {
  "kernelspec": {
   "display_name": "Python 3",
   "language": "python",
   "name": "python3"
  },
  "language_info": {
   "codemirror_mode": {
    "name": "ipython",
    "version": 3
   },
   "file_extension": ".py",
   "mimetype": "text/x-python",
   "name": "python",
   "nbconvert_exporter": "python",
   "pygments_lexer": "ipython3",
   "version": "3.7.6"
  }
 },
 "nbformat": 4,
 "nbformat_minor": 4
}
